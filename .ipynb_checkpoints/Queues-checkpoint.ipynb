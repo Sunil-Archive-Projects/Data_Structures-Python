{
 "cells": [
  {
   "cell_type": "markdown",
   "metadata": {},
   "source": [
    "# QUEUES"
   ]
  },
  {
   "cell_type": "code",
   "execution_count": 29,
   "metadata": {
    "collapsed": true
   },
   "outputs": [],
   "source": [
    "class Queue:\n",
    "    def __init__(self):\n",
    "        self.items = []\n",
    "        \n",
    "    def is_empty(self):\n",
    "        return self.items == []\n",
    "    \n",
    "    def enqueue(self,item):\n",
    "        self.items.insert(0,item)\n",
    "    \n",
    "    def dequeue(self):\n",
    "        return(self.items.pop())\n",
    "    \n",
    "    def size(self):\n",
    "        return len(self.items)\n",
    "    \n",
    "    def print_queue(self):\n",
    "        print(self.items)\n",
    "        \n",
    "    def shuffle_queue(self):\n",
    "        shuffle(self.items)\n",
    "    \n",
    "    #rare at 0"
   ]
  },
  {
   "cell_type": "markdown",
   "metadata": {},
   "source": [
    "Queue Operation Check"
   ]
  },
  {
   "cell_type": "code",
   "execution_count": 30,
   "metadata": {
    "collapsed": false
   },
   "outputs": [
    {
     "name": "stdout",
     "output_type": "stream",
     "text": [
      "['you']\n",
      "1\n"
     ]
    },
    {
     "data": {
      "text/plain": [
       "'you'"
      ]
     },
     "execution_count": 30,
     "metadata": {},
     "output_type": "execute_result"
    }
   ],
   "source": [
    "q =  Queue()\n",
    "\n",
    "q.enqueue(\"you\")\n",
    "\n",
    "q.print_queue()\n",
    "\n",
    "print(q.size())\n",
    "\n",
    "q.dequeue()\n"
   ]
  },
  {
   "cell_type": "markdown",
   "metadata": {},
   "source": [
    "Example 1 : Hot Potato Simulation"
   ]
  },
  {
   "cell_type": "markdown",
   "metadata": {},
   "source": [
    "One of the typical applications for showing a queue in action is to simulate a real situation that requires data to be managed in a FIFO manner. To begin, let’s consider the children’s game Hot Potato. In this game children line up in a circle and pass an item from neighbor to neighbor as fast as they can. At a certain point in the game, the action is stopped and the child who has the item (the potato) is removed from the circle. Play continues until only one child is left. A classic twist off is a Spin off Game of thrones game where we run it for 20 times and see who gets highest frequency of wins. Can skew the reult by modifying the value associated with each one. Meh. Maybe some other time."
   ]
  },
  {
   "cell_type": "code",
   "execution_count": 74,
   "metadata": {
    "collapsed": false
   },
   "outputs": [],
   "source": [
    "import random\n",
    "\n",
    "def hot_potato_simulator(nameList,number):\n",
    "    shuffle(nameList)\n",
    "    q = Queue()\n",
    "    \n",
    "    for name in nameList:\n",
    "        q.enqueue(name)\n",
    "    \n",
    "    while q.size() > 1:\n",
    "        for i in range(number):\n",
    "#             q.print_queue()\n",
    "            q.enqueue(q.dequeue())\n",
    "            \n",
    "        q.dequeue()\n",
    "    \n",
    "    return q.dequeue()\n",
    "        \n",
    "    \n",
    "    "
   ]
  },
  {
   "cell_type": "markdown",
   "metadata": {},
   "source": [
    "Hot Potato Simulator"
   ]
  },
  {
   "cell_type": "code",
   "execution_count": 78,
   "metadata": {
    "collapsed": false
   },
   "outputs": [
    {
     "name": "stdout",
     "output_type": "stream",
     "text": [
      "['Melisandre', 'Oberyn Martell', 'The Mountain', 'Whitewalkers', 'Whitewalkers']\n"
     ]
    }
   ],
   "source": [
    "winnersList = []\n",
    "for i in range(5):\n",
    "    winnersList.append(hot_potato_simulator([\"Melisandre\",\"The Mountain\", \"Oberyn Martell\",\"Whitewalkers\"],random.randint(1,17)))\n",
    "    \n",
    "winnersList.sort()\n",
    "print(winnersList)"
   ]
  },
  {
   "cell_type": "code",
   "execution_count": null,
   "metadata": {
    "collapsed": true
   },
   "outputs": [],
   "source": []
  }
 ],
 "metadata": {
  "kernelspec": {
   "display_name": "Python 3",
   "language": "python",
   "name": "python3"
  },
  "language_info": {
   "codemirror_mode": {
    "name": "ipython",
    "version": 3
   },
   "file_extension": ".py",
   "mimetype": "text/x-python",
   "name": "python",
   "nbconvert_exporter": "python",
   "pygments_lexer": "ipython3",
   "version": "3.5.1"
  }
 },
 "nbformat": 4,
 "nbformat_minor": 0
}
