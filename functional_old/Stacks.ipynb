{
 "cells": [
  {
   "cell_type": "markdown",
   "metadata": {},
   "source": [
    "# STACKS\n",
    "\n",
    "Operations Needed :\n",
    "\n",
    "1. is_empty\n",
    "2. push(item) \n",
    "3. peek : just see the top item\n",
    "4. pop\n",
    "5. size"
   ]
  },
  {
   "cell_type": "code",
   "execution_count": 17,
   "metadata": {
    "collapsed": true
   },
   "outputs": [],
   "source": [
    "class Stack:\n",
    "    def __init__(self):\n",
    "        self.items = []\n",
    "        \n",
    "    def is_empty(self):\n",
    "        return self.items == []\n",
    "    \n",
    "    def push(self,items):\n",
    "        self.items.append(items)\n",
    "        \n",
    "    def pop(self):\n",
    "        return self.items.pop()\n",
    "        \n",
    "    def peek(self):\n",
    "        return self.items[len(self.items) - 1]\n",
    "    \n",
    "    def size(self):\n",
    "        return len(self.items)\n",
    "    \n",
    "    def print_stack(self):\n",
    "        if self.is_empty():\n",
    "            print(\"\")\n",
    "        else:\n",
    "            print(self.items)"
   ]
  },
  {
   "cell_type": "markdown",
   "metadata": {},
   "source": [
    "# Basic Stack Check"
   ]
  },
  {
   "cell_type": "code",
   "execution_count": 2,
   "metadata": {
    "collapsed": false
   },
   "outputs": [
    {
     "name": "stdout",
     "output_type": "stream",
     "text": [
      "[]\n",
      "[0, 1, 2, 3, 4, 5, 6, 7, 8, 9]\n",
      "[0, 1, 2, 3, 4, 5, 6, 7, 8]\n"
     ]
    },
    {
     "data": {
      "text/plain": [
       "8"
      ]
     },
     "execution_count": 2,
     "metadata": {},
     "output_type": "execute_result"
    }
   ],
   "source": [
    "s = Stack()\n",
    "\n",
    "s.print_stack()\n",
    "\n",
    "for i in range(0,10):\n",
    "    s.push(i)\n",
    "\n",
    "s.print_stack()\n",
    "\n",
    "s.pop()\n",
    "\n",
    "s.peek()\n",
    "\n",
    "s.print_stack()\n",
    "\n",
    "s.size()\n",
    "\n",
    "s.peek()"
   ]
  },
  {
   "cell_type": "markdown",
   "metadata": {},
   "source": [
    "# Stack Implementation\n",
    "\n",
    "### *Eg 1 : Balancing the Simple Parantheses*"
   ]
  },
  {
   "cell_type": "code",
   "execution_count": 3,
   "metadata": {
    "collapsed": false
   },
   "outputs": [
    {
     "name": "stdout",
     "output_type": "stream",
     "text": [
      "Push!\n",
      "['(']\n",
      "Push!\n",
      "['(', '(']\n",
      "Push!\n",
      "['(', '(', '(']\n",
      "Pop!\n",
      "Pop!\n",
      "Pop!\n",
      "Parantheses Check :False\n"
     ]
    }
   ],
   "source": [
    "def parantheses_checker(symbol_string):\n",
    "    s = Stack()\n",
    "    balanced = True\n",
    "    index = 0\n",
    "    \n",
    "    while index < len(symbol_string) and balanced:\n",
    "        symbol = symbol_string[index]\n",
    "        \n",
    "        if symbol == \"(\":\n",
    "            s.push(symbol)\n",
    "            print(\"Push!\")\n",
    "            s.print_stack()\n",
    "        else:\n",
    "            if s.is_empty():\n",
    "                balanced = False\n",
    "            else:\n",
    "                s.pop()\n",
    "                print(\"Pop!\")\n",
    "                \n",
    "        index = index + 1\n",
    "        \n",
    "    if balanced and s.is_empty():\n",
    "        return True\n",
    "    else:\n",
    "        return False\n",
    "\n",
    "simple_expr = \"((())))\"\n",
    "    \n",
    "print(\"Parantheses Check :\" + str(parantheses_checker(simple_expr)))\n",
    "        "
   ]
  },
  {
   "cell_type": "markdown",
   "metadata": {},
   "source": [
    "### *Eg 2 : Balancing the Complex Parantheses*      "
   ]
  },
  {
   "cell_type": "code",
   "execution_count": 4,
   "metadata": {
    "collapsed": false
   },
   "outputs": [
    {
     "name": "stdout",
     "output_type": "stream",
     "text": [
      "Pushed (\n",
      "['(']\n",
      "Pushed {\n",
      "['(', '{']\n",
      "Pop!{\n",
      "open : { close : }\n",
      "Pop!(\n",
      "open : ( close : )\n",
      "Parantheses Check :True\n"
     ]
    }
   ],
   "source": [
    "def complex_parantheses_checker(symbol_string):\n",
    "    s = Stack()\n",
    "    balanced = True\n",
    "    index = 0\n",
    "    \n",
    "    while index < len(symbol_string) and balanced:\n",
    "        symbol = symbol_string[index]\n",
    "        \n",
    "        if symbol in \"({[\":\n",
    "            s.push(symbol)\n",
    "            print(\"Pushed \" + symbol)\n",
    "            s.print_stack()\n",
    "        else:\n",
    "            if s.is_empty():\n",
    "                balanced = False\n",
    "            else:\n",
    "                print(\"Pop!\" + s.peek())\n",
    "                if not matches(s.pop() , symbol):\n",
    "                    balanced = false\n",
    "                \n",
    "                \n",
    "                \n",
    "        index = index + 1\n",
    "        \n",
    "    if balanced and s.is_empty():\n",
    "        return True\n",
    "    else:\n",
    "        return False\n",
    "    \n",
    "def matches(open, close):\n",
    "    print(\"open : \" + open + \" close : \" + close)\n",
    "    open_parantheses = \"({[\"\n",
    "    close_parantheses = \")}]\"\n",
    "    return open_parantheses.index(open) == close_parantheses.index(close)\n",
    "\n",
    "complex_expr = \"({})\"\n",
    "    \n",
    "print(\"Parantheses Check :\" + str(complex_parantheses_checker(complex_expr)))\n",
    "        "
   ]
  },
  {
   "cell_type": "markdown",
   "metadata": {},
   "source": [
    "### *Eg 3 : Decimal To Binary*"
   ]
  },
  {
   "cell_type": "code",
   "execution_count": 5,
   "metadata": {
    "collapsed": false
   },
   "outputs": [
    {
     "name": "stdout",
     "output_type": "stream",
     "text": [
      "Decimal : 0.3\n",
      "Binary : 0.3\n"
     ]
    }
   ],
   "source": [
    "def convert_to_binary(decimal_number):\n",
    "    \n",
    "    print(\"Decimal : \" + str(decimal_number))\n",
    "    \n",
    "    if decimal_number == 0:\n",
    "        return 0\n",
    "    \n",
    "    binary_stack = Stack()\n",
    "    \n",
    "    while decimal_number > 0:\n",
    "        remainder = decimal_number % 2\n",
    "        binary_stack.push(remainder)\n",
    "        \n",
    "        decimal_number = decimal_number // 2\n",
    "        \n",
    "    binary_string = \"\"\n",
    "    \n",
    "    while not binary_stack.is_empty():\n",
    "        binary_string = binary_string + str(binary_stack.pop())\n",
    "        \n",
    "    print(\"Binary : \" + binary_string)\n",
    "    \n",
    "convert_to_binary(0.3)"
   ]
  },
  {
   "cell_type": "markdown",
   "metadata": {},
   "source": [
    "### *Eg 4 : Decimal To any Base*      "
   ]
  },
  {
   "cell_type": "code",
   "execution_count": 6,
   "metadata": {
    "collapsed": false
   },
   "outputs": [
    {
     "name": "stdout",
     "output_type": "stream",
     "text": [
      "Decimal : 100\n",
      "Binary : 1100100\n"
     ]
    }
   ],
   "source": [
    "def convert_decimal_to_base(decimal,base):\n",
    "    print(\"Decimal : \" + str(decimal))\n",
    "    \n",
    "    if decimal == 0:\n",
    "        return 0\n",
    "    \n",
    "    base_stack = Stack()\n",
    "    \n",
    "    while decimal > 0:\n",
    "        rem = decimal % base\n",
    "        base_stack.push(rem)\n",
    "        decimal = decimal // base\n",
    "        \n",
    "    base_string = \"\"\n",
    "    \n",
    "    while not base_stack.is_empty():\n",
    "        base_string = base_string + str(base_stack.pop())\n",
    "        \n",
    "    print(\"Binary : \" + base_string)\n",
    "    \n",
    "convert_decimal_to_base(100,2)\n",
    "\n",
    "    \n",
    "        "
   ]
  },
  {
   "cell_type": "markdown",
   "metadata": {},
   "source": [
    "### *Eg 5 : Infix to Postfix *"
   ]
  },
  {
   "cell_type": "markdown",
   "metadata": {
    "collapsed": true
   },
   "source": [
    "Infix to Postfix algorithm:\n",
    "\n",
    "operator : */-+\n",
    "operand : ABCD\n",
    "\n",
    "Create an empty stack called opstack for keeping operators. Create an empty list for output.\n",
    "Convert the input infix string to a list by using the string method split.\n",
    "Scan the token list from left to right.\n",
    "If the token is an operand, append it to the end of the output list.\n",
    "If the token is a left parenthesis, push it on the opstack.\n",
    "If the token is a right parenthesis, pop the opstack until the corresponding left parenthesis is removed. Append each operator to the end of the output list.\n",
    "If the token is an operator, *, /, +, or -, push it on the opstack. However, first remove any operators already on the opstack that have higher or equal precedence and append them to the output list.\n",
    "When the input expression has been completely processed, check the opstack. Any operators still on the stack can be removed and appended to the end of the output list."
   ]
  },
  {
   "cell_type": "markdown",
   "metadata": {},
   "source": [
    "Code :"
   ]
  },
  {
   "cell_type": "code",
   "execution_count": 7,
   "metadata": {
    "collapsed": false
   },
   "outputs": [],
   "source": [
    "def infix_to_postfix(infix_expression):\n",
    "    #operator precedence\n",
    "    prec = {}\n",
    "    prec[\"/\"] = 3\n",
    "    prec[\"*\"] = 3\n",
    "    prec[\"-\"] = 2\n",
    "    prec[\"+\"] = 2\n",
    "    prec[\"(\"] = 1\n",
    "  \n",
    "    \n",
    "    #operator stack\n",
    "    opStack = Stack()\n",
    "    \n",
    "    #final postfix expression goes here\n",
    "    postfixList = []\n",
    "    \n",
    "    #token splitter\n",
    "    tokenList=[]\n",
    "    tokenlist = infix_expression.split()\n",
    "    \n",
    "    #setup complete\n",
    "    #time to kick some ass\n",
    "    \n",
    "    for token in tokenlist:\n",
    "       \n",
    "        #if token.ischar() or token.isdigit():\n",
    "        if token in \"ABCDEFGHIJKLMNOPQRSTUVWXYZ\" or token in \"0123456789\":\n",
    "            postfixList.append(token)\n",
    "            \n",
    "        elif token == '(':\n",
    "            opStack.push(token)\n",
    "            \n",
    "        elif token == ')':\n",
    "            topToken = opStack.pop()\n",
    "            while topToken != '(':\n",
    "                postfixList.append(topToken)\n",
    "                topToken = opStack.pop()\n",
    "        else:\n",
    "            #here comes the operator\n",
    "            while (not opStack.is_empty()) and (prec[opStack.peek()] >= prec[token]):\n",
    "                postfixList.append(opStack.pop())\n",
    "            opStack.push(token)\n",
    "            \n",
    "    while(not opStack.is_empty()):\n",
    "        postfixList.append(opStack.pop())\n",
    "        \n",
    "    return \"\".join(postfixList)\n",
    "                \n",
    "        \n",
    "    \n",
    "    "
   ]
  },
  {
   "cell_type": "markdown",
   "metadata": {},
   "source": [
    "Testing Infix to Postfix :"
   ]
  },
  {
   "cell_type": "code",
   "execution_count": 8,
   "metadata": {
    "collapsed": false
   },
   "outputs": [
    {
     "data": {
      "text/plain": [
       "'AB+C*DE-FG+*-'"
      ]
     },
     "execution_count": 8,
     "metadata": {},
     "output_type": "execute_result"
    }
   ],
   "source": [
    "infix_to_postfix(\"( A + B ) * C - ( D - E ) * ( F + G )\")"
   ]
  },
  {
   "cell_type": "markdown",
   "metadata": {},
   "source": [
    "### *Eg 6 : Postfix Evaluation*"
   ]
  },
  {
   "cell_type": "markdown",
   "metadata": {
    "collapsed": true
   },
   "source": [
    "Evaluates the Postfix Expression to get the value"
   ]
  },
  {
   "cell_type": "code",
   "execution_count": 20,
   "metadata": {
    "collapsed": false,
    "slideshow": {
     "slide_type": "-"
    }
   },
   "outputs": [],
   "source": [
    "def postfix_evaluator(postfix_expression):\n",
    "    operandStack = Stack()\n",
    "    tokenList = postfix_expression.split()\n",
    "    \n",
    "    for token in tokenList:\n",
    "        print(operandStack.print_stack())\n",
    "        if token in (\"0123456789\"):\n",
    "            operandStack.push(int(token))\n",
    "        else:\n",
    "            print(\"Token:\"+token)\n",
    "            operand2 = operandStack.pop()\n",
    "            operand1 = operandStack.pop()\n",
    "            result = doMath(operand1,operand2,token)\n",
    "            operandStack.push(result)\n",
    "    \n",
    "    return operandStack.pop()\n",
    "    \n",
    "def doMath(op1,op2,operator):\n",
    "    if operator == \"+\":\n",
    "        return op1 + op2\n",
    "    elif operator == \"-\":\n",
    "        return op1 - op2\n",
    "    elif operator == \"*\":\n",
    "        return op1 * op2\n",
    "    elif operator == \"/\":\n",
    "        return op1 / op2\n",
    "            "
   ]
  },
  {
   "cell_type": "markdown",
   "metadata": {},
   "source": [
    "Postfix Evaluator Check:"
   ]
  },
  {
   "cell_type": "code",
   "execution_count": 21,
   "metadata": {
    "collapsed": false
   },
   "outputs": [
    {
     "name": "stdout",
     "output_type": "stream",
     "text": [
      "\n",
      "None\n",
      "[7]\n",
      "None\n",
      "[7, 8]\n",
      "None\n",
      "Token:+\n",
      "[15]\n",
      "None\n",
      "[15, 3]\n",
      "None\n",
      "[15, 3, 2]\n",
      "None\n",
      "Token:+\n",
      "[15, 5]\n",
      "None\n",
      "Token:/\n"
     ]
    },
    {
     "data": {
      "text/plain": [
       "3.0"
      ]
     },
     "execution_count": 21,
     "metadata": {},
     "output_type": "execute_result"
    }
   ],
   "source": [
    "postfix_evaluator('7 8 + 3 2 + /')"
   ]
  },
  {
   "cell_type": "code",
   "execution_count": null,
   "metadata": {
    "collapsed": true
   },
   "outputs": [],
   "source": []
  }
 ],
 "metadata": {
  "kernelspec": {
   "display_name": "Python 3",
   "language": "python",
   "name": "python3"
  },
  "language_info": {
   "codemirror_mode": {
    "name": "ipython",
    "version": 3
   },
   "file_extension": ".py",
   "mimetype": "text/x-python",
   "name": "python",
   "nbconvert_exporter": "python",
   "pygments_lexer": "ipython3",
   "version": "3.5.1"
  }
 },
 "nbformat": 4,
 "nbformat_minor": 0
}
